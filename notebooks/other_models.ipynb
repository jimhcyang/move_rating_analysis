{
 "cells": [
  {
   "cell_type": "code",
   "execution_count": 1,
   "metadata": {},
   "outputs": [],
   "source": [
    "from pydrive.auth import GoogleAuth\n",
    "from pydrive.drive import GoogleDrive\n",
    "import io\n",
    "import pickle\n",
    "import numpy as np\n",
    "import os\n",
    "from datetime import datetime\n",
    "from sklearn.model_selection import train_test_split\n",
    "from sklearn.naive_bayes import BernoulliNB\n",
    "from sklearn.ensemble import RandomForestClassifier\n",
    "from sklearn.metrics import accuracy_score"
   ]
  },
  {
   "cell_type": "code",
   "execution_count": 2,
   "metadata": {},
   "outputs": [],
   "source": [
    "os.chdir('..')"
   ]
  },
  {
   "cell_type": "code",
   "execution_count": 3,
   "metadata": {},
   "outputs": [],
   "source": [
    "gauth = GoogleAuth()\n",
    "gauth.DEFAULT_SETTINGS['client_config_file'] = 'client_secret_1057507276332-5mk9ac9q22rsmtm1idlqvpraq08ar8p5.apps.googleusercontent.com.json'\n",
    "gauth.LoadCredentialsFile(\"mycreds.txt\")\n",
    "if gauth.credentials is None:\n",
    "    gauth.LocalWebserverAuth()\n",
    "elif gauth.access_token_expired:\n",
    "    gauth.Refresh()\n",
    "else:\n",
    "    gauth.Authorize()\n",
    "\n",
    "gauth.SaveCredentialsFile(\"mycreds.txt\")\n",
    "drive = GoogleDrive(gauth)"
   ]
  },
  {
   "cell_type": "code",
   "execution_count": 4,
   "metadata": {},
   "outputs": [],
   "source": [
    "max_games = 500000 \n",
    "asset_dir = 'asset'\n",
    "file_name = '2023_tc_50000_games.pgn'\n",
    "\n",
    "cached_urls_file = file_name.split('.')[0] + '_urls_list.pkl'\n",
    "cached_ratings_file = file_name.split('.')[0] + '_ratings_list.pkl'\n",
    "cached_games_file = file_name.split('.')[0] + '_game_arrays.pkl'"
   ]
  },
  {
   "cell_type": "code",
   "execution_count": 5,
   "metadata": {},
   "outputs": [
    {
     "name": "stdout",
     "output_type": "stream",
     "text": [
      "loading item from cache...\n",
      "loaded\n",
      "loading item from cache...\n",
      "loaded\n",
      "loading item from cache...\n",
      "loaded\n"
     ]
    }
   ],
   "source": [
    "def load_item_from_file(file_path):\n",
    "    if os.path.exists(file_path):\n",
    "        print('loading item from cache...')\n",
    "        with open(file_path, 'rb') as file:\n",
    "            items = pickle.load(file)\n",
    "        print('loaded')\n",
    "        return items\n",
    "    else:\n",
    "        return None\n",
    "\n",
    "try:\n",
    "    assets_path = os.path.join(os.getcwd(), asset_dir)\n",
    "    cached_urls_path = os.path.join(assets_path, cached_urls_file)\n",
    "    cached_ratings_path = os.path.join(assets_path, cached_ratings_file)\n",
    "    cached_games_path = os.path.join(assets_path, cached_games_file)\n",
    "    urls_list = load_item_from_file(cached_urls_path)\n",
    "    ratings_list = load_item_from_file(cached_ratings_path)\n",
    "    game_arrays = load_item_from_file(cached_games_path)\n",
    "except:\n",
    "    ('Files not on disk, reading from drive...')"
   ]
  },
  {
   "cell_type": "code",
   "execution_count": 6,
   "metadata": {},
   "outputs": [
    {
     "name": "stdout",
     "output_type": "stream",
     "text": [
      "URLs list loaded successfully.\n",
      "Ratings list loaded successfully.\n",
      "Game arrays loaded successfully.\n"
     ]
    }
   ],
   "source": [
    "def find_folder_id(folder_name):\n",
    "    \"\"\"Find and return the Google Drive folder ID for a given folder name.\"\"\"\n",
    "    file_list = drive.ListFile({'q': f\"title='{folder_name}' and mimeType='application/vnd.google-apps.folder' and trashed=false\"}).GetList()\n",
    "    for file in file_list:\n",
    "        if file['title'] == folder_name:\n",
    "            return file['id']\n",
    "    return None\n",
    "\n",
    "def read_pkl_file_from_drive(file_title, parent_id):\n",
    "    \"\"\"Read a .pkl file directly from Google Drive into a Python object.\"\"\"\n",
    "    query = f\"'{parent_id}' in parents and trashed=false and title='{file_title}'\"\n",
    "    file_list = drive.ListFile({'q': query}).GetList()\n",
    "    if not file_list:\n",
    "        print(f\"No file found with title: {file_title}\")\n",
    "        return None\n",
    "    file = file_list[0]\n",
    "    file_content = file.GetContentString(encoding='cp437')\n",
    "    buffer = io.BytesIO(file_content.encode('cp437'))\n",
    "    return pickle.load(buffer)\n",
    "\n",
    "asset_folder_id = find_folder_id(asset_dir)\n",
    "if asset_folder_id is None:\n",
    "    print(\"Asset folder not found.\")\n",
    "elif game_arrays is not None:\n",
    "    pass\n",
    "else:\n",
    "    file_titles = {\n",
    "        'urls_list': cached_urls_file,\n",
    "        'ratings_list': cached_ratings_file,\n",
    "        'game_arrays': cached_games_file,\n",
    "    }\n",
    "\n",
    "    urls_list = read_pkl_file_from_drive(file_titles['urls_list'], asset_folder_id)\n",
    "    ratings_list = read_pkl_file_from_drive(file_titles['ratings_list'], asset_folder_id)\n",
    "    game_arrays = read_pkl_file_from_drive(file_titles['game_arrays'], asset_folder_id)\n",
    "\n",
    "if urls_list is not None:\n",
    "    print(\"URLs list loaded successfully.\")\n",
    "if ratings_list is not None:\n",
    "    print(\"Ratings list loaded successfully.\")\n",
    "if game_arrays is not None:\n",
    "    print(\"Game arrays loaded successfully.\")\n",
    "\n",
    "##2m 26.4s"
   ]
  },
  {
   "cell_type": "code",
   "execution_count": 7,
   "metadata": {},
   "outputs": [],
   "source": [
    "def train_test_split(game_arrays, ratings_list, urls_list, fold_number=0):\n",
    "    if fold_number < 0 or fold_number > 4:\n",
    "        raise ValueError(\"fold_number must be between 0 and 4\")\n",
    "    game_vecs = [np.mean(matrix, axis=0) for matrix in game_arrays]\n",
    "    X_test = game_vecs[fold_number::5]\n",
    "    X_train = [df for i in range(5) if i != fold_number for df in game_vecs[i::5]]\n",
    "    y_test = ratings_list[fold_number::5]\n",
    "    y_train = [ratings for i in range(5) if i != fold_number for ratings in ratings_list[i::5]]\n",
    "    test_urls = urls_list[fold_number::5]\n",
    "    train_urls = [url for i in range(5) if i != fold_number for url in urls_list[i::5]]\n",
    "\n",
    "    return X_train, X_test, y_train, y_test, train_urls, test_urls"
   ]
  },
  {
   "cell_type": "code",
   "execution_count": 8,
   "metadata": {},
   "outputs": [],
   "source": [
    "X_train, X_test, y_train, y_test, train_urls, test_urls = train_test_split(game_arrays, ratings_list, urls_list)"
   ]
  },
  {
   "cell_type": "code",
   "execution_count": 11,
   "metadata": {},
   "outputs": [
    {
     "data": {
      "text/plain": [
       "[0.15415,\n",
       " 0.40405,\n",
       " 0.58295,\n",
       " 0.71775,\n",
       " 0.81835,\n",
       " 0.89065,\n",
       " 0.93495,\n",
       " 0.9686,\n",
       " 0.99285,\n",
       " 1.0]"
      ]
     },
     "execution_count": 11,
     "metadata": {},
     "output_type": "execute_result"
    }
   ],
   "source": [
    "clf_nb = BernoulliNB().fit(X_train, y_train)\n",
    "y_pred_nb = clf_nb.predict(X_test)\n",
    "accuracies = [sum(abs(p - a) <= k for p, a in zip(y_pred_nb, y_test)) for k in range(10)]\n",
    "[x/20000 for x in accuracies]"
   ]
  },
  {
   "cell_type": "code",
   "execution_count": 12,
   "metadata": {},
   "outputs": [
    {
     "name": "stdout",
     "output_type": "stream",
     "text": [
      "CPU times: total: 2min 48s\n",
      "Wall time: 29.6 s\n"
     ]
    },
    {
     "data": {
      "text/plain": [
       "[0.23465,\n",
       " 0.57625,\n",
       " 0.7719,\n",
       " 0.8853,\n",
       " 0.94775,\n",
       " 0.9776,\n",
       " 0.99195,\n",
       " 0.99755,\n",
       " 0.99975,\n",
       " 1.0]"
      ]
     },
     "execution_count": 12,
     "metadata": {},
     "output_type": "execute_result"
    }
   ],
   "source": [
    "%%time\n",
    "clf_rf = RandomForestClassifier(n_estimators=100, random_state=42, n_jobs=-1)\n",
    "clf_rf.fit(X_train, y_train)\n",
    "y_pred_rf = clf_rf.predict(X_test)\n",
    "accuracies = [sum(abs(p - a) <= k for p, a in zip(y_pred_rf, y_test)) for k in range(10)]\n",
    "[x/20000 for x in accuracies]\n",
    "\n",
    "#CPU times: total: 10min 5s\n",
    "#Wall time: 17min 19s"
   ]
  },
  {
   "cell_type": "code",
   "execution_count": 13,
   "metadata": {},
   "outputs": [
    {
     "data": {
      "text/plain": [
       "[('classification_name_Blunder', 0.035824666517166266),\n",
       " ('classification_name_Great', 0.03417247444188693),\n",
       " ('time_category_instant', 0.032114738292212563),\n",
       " ('time_category_normal', 0.0317092673939854),\n",
       " ('game_state', 0.031688642263981874),\n",
       " ('count_legal_moves', 0.030781828553123083),\n",
       " ('is_capture', 0.029654483636490585),\n",
       " ('veni_vidi_vici', 0.02931147456728802),\n",
       " ('is_same_piece', 0.029304778757139778),\n",
       " ('is_create_tension', 0.02834975587061691),\n",
       " ('is_reacting', 0.028308992234884756),\n",
       " ('time_category_fast', 0.02809154314663366),\n",
       " ('classification_name_Good', 0.02796288767813461),\n",
       " ('classification_name_Mistake', 0.027951748339499108),\n",
       " ('is_maintain_tension', 0.027598705633058798),\n",
       " ('force_moves_percent', 0.02739179654453292),\n",
       " ('is_threat', 0.027043384395000453),\n",
       " ('is_check', 0.02649315289929562),\n",
       " ('is_true_hanging', 0.02640261354632915),\n",
       " ('distance', 0.026361074704690634)]"
      ]
     },
     "execution_count": 13,
     "metadata": {},
     "output_type": "execute_result"
    }
   ],
   "source": [
    "feature_importances = clf_rf.feature_importances_\n",
    "features = ['ply_count', 'count_legal_moves', 'force_moves_percent', 'game_state',\n",
    "            'distance', 'is_endgame', 'has_increment', 'in_time_trouble',\n",
    "            'can_dirty_flag', 'is_check', 'is_double_check', 'is_discovered_check',\n",
    "            'is_capture', 'is_threat', 'is_developing', 'is_retreating',\n",
    "            'was_hanging', 'is_hanging', 'was_true_hanging', 'is_true_hanging',\n",
    "            'is_create_tension', 'is_resolve_tension', 'is_maintain_tension',\n",
    "            'is_reacting', 'is_same_piece', 'veni_vidi_vici', 'is_collinear',\n",
    "            'moved_piece_king', 'moved_piece_queen', 'moved_piece_rook',\n",
    "            'moved_piece_bishop', 'moved_piece_knight', 'moved_piece_pawn',\n",
    "            'time_category_instant', 'time_category_fast', 'time_category_normal',\n",
    "            'time_category_slow', 'classification_name_Great',\n",
    "            'classification_name_Good', 'classification_name_Inaccuracy',\n",
    "            'classification_name_Blunder', 'classification_name_Mistake']\n",
    "\n",
    "feature_importance_pairs = zip(features, feature_importances)\n",
    "sorted_feature_importances = sorted(feature_importance_pairs, key=lambda x: x[1], reverse=True)\n",
    "top_features = sorted_feature_importances[:20]\n",
    "top_features"
   ]
  }
 ],
 "metadata": {
  "kernelspec": {
   "display_name": "Python 3",
   "language": "python",
   "name": "python3"
  },
  "language_info": {
   "codemirror_mode": {
    "name": "ipython",
    "version": 3
   },
   "file_extension": ".py",
   "mimetype": "text/x-python",
   "name": "python",
   "nbconvert_exporter": "python",
   "pygments_lexer": "ipython3",
   "version": "3.11.1"
  }
 },
 "nbformat": 4,
 "nbformat_minor": 2
}
