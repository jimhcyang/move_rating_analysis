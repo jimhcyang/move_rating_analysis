{
 "cells": [
  {
   "cell_type": "code",
   "execution_count": 1,
   "id": "c11024d6-33c9-45f6-ac8a-fa73fad9f916",
   "metadata": {},
   "outputs": [],
   "source": [
    "import chess\n",
    "import chess.pgn\n",
    "import numpy as np\n",
    "import pandas as pd\n",
    "import os\n",
    "import pickle\n",
    "from tqdm import tqdm\n",
    "import torch\n",
    "import torch.nn as nn\n",
    "import torch.nn.functional as F\n",
    "import torchvision\n",
    "import torchvision.transforms as transforms\n",
    "from torch.utils.data import TensorDataset, DataLoader"
   ]
  },
  {
   "cell_type": "code",
   "execution_count": 2,
   "id": "1978ff16",
   "metadata": {},
   "outputs": [],
   "source": [
    "FILENAME = 'fabdub.pgn' #provide a valid pgn file with only one game that has %clk and %eval."
   ]
  },
  {
   "cell_type": "code",
   "execution_count": 3,
   "id": "960fcb52-8013-46a9-834a-756be3d24750",
   "metadata": {},
   "outputs": [],
   "source": [
    "os.chdir('..')"
   ]
  },
  {
   "cell_type": "code",
   "execution_count": 4,
   "id": "864f0a99-e9af-481e-8c04-57274bd4e466",
   "metadata": {},
   "outputs": [],
   "source": [
    "from chess_class import ChessGame, ChessMove"
   ]
  },
  {
   "cell_type": "code",
   "execution_count": 5,
   "id": "6a5d4baa-9e30-4112-a12b-0849a6fc8a4b",
   "metadata": {},
   "outputs": [],
   "source": [
    "def chess_games_to_arrays(games_generator):\n",
    "    def rating_to_group(rating):\n",
    "        rating = int(rating)\n",
    "        if rating < 800:\n",
    "            return 0\n",
    "        elif rating >= 2400:\n",
    "            return 9\n",
    "        return int(rating)//200 - 3\n",
    "\n",
    "    attributes = [\"ply_count\", \"time_category\", \"classification_name\", \"count_legal_moves\", \"force_moves_percent\",\n",
    "                  \"game_state\", \"distance\", \"is_endgame\", \"has_increment\", \"in_time_trouble\", \"can_dirty_flag\",\n",
    "                  \"is_check\", \"is_double_check\", \"is_discovered_check\", \"is_capture\", \"is_threat\", \"is_developing\",\n",
    "                  \"is_retreating\", \"was_hanging\", \"is_hanging\", \"was_true_hanging\", \"is_true_hanging\", \"is_create_tension\",\n",
    "                  \"is_resolve_tension\", \"is_maintain_tension\", \"start_square\", \"end_square\", \"threats\", \n",
    "                  \"create_tension\", \"maintain_tension\", \"resolve_tension\", \"piece_value\"]\n",
    "    \n",
    "    game_arrays = []\n",
    "    ratings_list = []\n",
    "    urls_list = []\n",
    "    for i, game in enumerate(tqdm(games_generator, total=max_games, desc=\"Processing games\")):\n",
    "        elo_w, elo_b, url = game.white_elo, game.black_elo, game.url\n",
    "        total_plies = game.total_ply\n",
    "        df = pd.DataFrame(columns=attributes)\n",
    "        for j, move in enumerate(game.moves):\n",
    "            #print(move.cur_board_state)\n",
    "            move_row = {attribute: getattr(move, attribute, None) for attribute in attributes}\n",
    "            df.loc[j] = move_row\n",
    "        df['ply_count'] = df['ply_count'] / total_plies\n",
    "        df['count_legal_moves'] = df['count_legal_moves'] / 128\n",
    "        df['distance'] = (df['distance'] - 1) / 6\n",
    "\n",
    "        df['prev_end_square'] = df['end_square'].shift(1).fillna(64)\n",
    "        df['prev_threats'] = df['threats'].shift(1).fillna({}).apply(lambda x: x if isinstance(x, set) else {})\n",
    "        df['prev_create_tension'] = df['create_tension'].shift(1).fillna({}).apply(lambda x: x if isinstance(x, set) else {})\n",
    "        df['last_move_end_square'] = df['end_square'].shift(2).fillna(64)\n",
    "        df['last_move_create_tension'] = df['create_tension'].shift(2).fillna({}).apply(lambda x: x if isinstance(x, set) else {})\n",
    "        df['last_move_threats'] = df['threats'].shift(2).fillna({}).apply(lambda x: x if isinstance(x, set) else {})\n",
    "    \n",
    "        df['is_reacting'] = df.apply(lambda row: row['prev_end_square'] in (row['create_tension'] | row['threats']), axis=1) | \\\n",
    "                            (df['prev_end_square'] == df['end_square']) | \\\n",
    "                            df.apply(lambda row: row['start_square'] in row['prev_threats'], axis=1)\n",
    "        df['is_same_piece'] = df['last_move_end_square'] == df['start_square']\n",
    "        df['veni_vidi_vici'] = df.apply(lambda row: row['end_square'] in (row['last_move_create_tension'] | row['last_move_threats']), axis=1)\n",
    "        df['is_collinear'] = df.apply(lambda row: row['start_square'] in (row['prev_create_tension'] | row['prev_threats']), axis=1) | \\\n",
    "                            df.apply(lambda row: row['prev_end_square'] in row['create_tension'], axis=1)\n",
    "        df.drop(columns=['prev_end_square', 'last_move_end_square', 'prev_threats', 'last_move_create_tension', 'prev_create_tension',\n",
    "                         'last_move_threats', 'threats', 'create_tension', 'maintain_tension', 'resolve_tension'], inplace=True)\n",
    "\n",
    "        df['moved_piece_king'] = df['piece_value'].apply(lambda x: 1 if x == 6 else 0)\n",
    "        df['moved_piece_queen'] = df['piece_value'].apply(lambda x: 1 if x == 5 else 0)\n",
    "        df['moved_piece_rook'] = df['piece_value'].apply(lambda x: 1 if x == 4 else 0)\n",
    "        df['moved_piece_bishop'] = df['piece_value'].apply(lambda x: 1 if x == 3 else 0)\n",
    "        df['moved_piece_knight'] = df['piece_value'].apply(lambda x: 1 if x == 2 else 0)\n",
    "        df['moved_piece_pawn'] = df['piece_value'].apply(lambda x: 1 if x == 1 else 0)\n",
    "        df['time_category_instant'] = df['time_category'].apply(lambda x: 1 if x == 'instant' else 0)\n",
    "        df['time_category_fast'] = df['time_category'].apply(lambda x: 1 if x == 'fast' else 0)\n",
    "        df['time_category_normal'] = df['time_category'].apply(lambda x: 1 if x == 'normal' else 0)\n",
    "        df['time_category_slow'] = df['time_category'].apply(lambda x: 1 if x == 'slow' else 0)\n",
    "        df['classification_name_Great'] = df['classification_name'].apply(lambda x: 1 if x == 'Great' else 0)\n",
    "        df['classification_name_Good'] = df['classification_name'].apply(lambda x: 1 if x == 'Good' else 0)\n",
    "        df['classification_name_Inaccuracy'] = df['classification_name'].apply(lambda x: 1 if x == 'Inaccuracy' else 0)\n",
    "        df['classification_name_Blunder'] = df['classification_name'].apply(lambda x: 1 if x == 'Blunder' else 0)\n",
    "        df['classification_name_Mistake'] = df['classification_name'].apply(lambda x: 1 if x == 'Mistake' else 0)\n",
    "\n",
    "        df = df.drop(['classification_name', 'time_category', 'piece_value', 'start_square', 'end_square'], axis=1)\n",
    "        print(df.columns)\n",
    "\n",
    "        game_array_rep = df.astype(float).to_numpy()\n",
    "        game_arrays.append(game_array_rep)\n",
    "        ratings_list.append(rating_to_group((elo_w + elo_b)/2))\n",
    "        urls_list.append(url)\n",
    "    return game_arrays, ratings_list, urls_list"
   ]
  },
  {
   "cell_type": "code",
   "execution_count": 6,
   "id": "6b86c675",
   "metadata": {},
   "outputs": [],
   "source": [
    "def load_pgns(file_path, num_games=None, start_index=0, encoding=\"utf-8\"):\n",
    "    games = []\n",
    "    with open(file_path, \"r\", encoding=encoding) as file:\n",
    "        for _ in tqdm(range(start_index), desc='Skipping games', unit='game', leave=False):\n",
    "            game = chess.pgn.read_game(file)\n",
    "            if game is None:\n",
    "                break\n",
    "        for _ in tqdm(range(num_games), desc='Loading games', unit='game', leave=True) if num_games else iter(int, 1):\n",
    "            game = chess.pgn.read_game(file)\n",
    "            if game is None:\n",
    "                break\n",
    "            games.append(game)\n",
    "    return games"
   ]
  },
  {
   "cell_type": "code",
   "execution_count": 7,
   "id": "9b4a8d47",
   "metadata": {},
   "outputs": [
    {
     "name": "stderr",
     "output_type": "stream",
     "text": [
      "Loading games: 100%|██████████| 1/1 [00:00<00:00, 18.72game/s]\n",
      "Processing games: 100%|██████████| 1/1 [00:00<00:00,  2.29it/s]"
     ]
    },
    {
     "name": "stdout",
     "output_type": "stream",
     "text": [
      "Index(['ply_count', 'count_legal_moves', 'force_moves_percent', 'game_state',\n",
      "       'distance', 'is_endgame', 'has_increment', 'in_time_trouble',\n",
      "       'can_dirty_flag', 'is_check', 'is_double_check', 'is_discovered_check',\n",
      "       'is_capture', 'is_threat', 'is_developing', 'is_retreating',\n",
      "       'was_hanging', 'is_hanging', 'was_true_hanging', 'is_true_hanging',\n",
      "       'is_create_tension', 'is_resolve_tension', 'is_maintain_tension',\n",
      "       'is_reacting', 'is_same_piece', 'veni_vidi_vici', 'is_collinear',\n",
      "       'moved_piece_king', 'moved_piece_queen', 'moved_piece_rook',\n",
      "       'moved_piece_bishop', 'moved_piece_knight', 'moved_piece_pawn',\n",
      "       'time_category_instant', 'time_category_fast', 'time_category_normal',\n",
      "       'time_category_slow', 'classification_name_Great',\n",
      "       'classification_name_Good', 'classification_name_Inaccuracy',\n",
      "       'classification_name_Blunder', 'classification_name_Mistake'],\n",
      "      dtype='object')\n"
     ]
    },
    {
     "name": "stderr",
     "output_type": "stream",
     "text": [
      "\n"
     ]
    }
   ],
   "source": [
    "max_games = 1\n",
    "asset_dir = 'asset'\n",
    "file_name = FILENAME\n",
    "assets_path = os.path.join(os.getcwd(), asset_dir)\n",
    "single_path = os.path.join(assets_path, file_name)\n",
    "pgns = load_pgns(single_path, max_games)\n",
    "games_generator = (ChessGame(pgn) for pgn in pgns)\n",
    "game_arrays, ratings_list, urls_list  = chess_games_to_arrays(games_generator)"
   ]
  },
  {
   "cell_type": "code",
   "execution_count": 8,
   "id": "6808c960",
   "metadata": {},
   "outputs": [],
   "source": [
    "input_size = 42\n",
    "hidden_size = 128\n",
    "num_classes = 10\n",
    "num_epochs = 12\n",
    "num_layers = 2\n",
    "learning_rate = 0.001\n",
    "dropout_rate = 0\n",
    "sequence_length = 60 #bucketing to be done\n",
    "batch_size = 1\n",
    "alpha = 0.64"
   ]
  },
  {
   "cell_type": "code",
   "execution_count": 9,
   "id": "5f1001a5-84c6-4e21-88e5-c00d648ab542",
   "metadata": {},
   "outputs": [
    {
     "data": {
      "text/plain": [
       "device(type='cuda')"
      ]
     },
     "execution_count": 9,
     "metadata": {},
     "output_type": "execute_result"
    }
   ],
   "source": [
    "def pad_game(game, max_length=256, vector_size=42):\n",
    "    padding_length = max_length - len(game)\n",
    "    if padding_length < 0:\n",
    "        return game[:max_length]\n",
    "    else:\n",
    "        padding = np.full((padding_length, vector_size), -1)\n",
    "        return np.vstack((game, padding))\n",
    "\n",
    "padded_game = np.array([pad_game(g, sequence_length) for g in game_arrays])\n",
    "test_data = torch.FloatTensor(padded_game)\n",
    "\n",
    "device = torch.device('cuda' if torch.cuda.is_available() else 'cpu')\n",
    "device"
   ]
  },
  {
   "cell_type": "code",
   "execution_count": 10,
   "id": "9892ff55-3d42-45c3-96e7-0a9191b86799",
   "metadata": {},
   "outputs": [],
   "source": [
    "class RNN(nn.Module):\n",
    "    def __init__(self, input_size, hidden_size, num_layers, num_classes, dropout_rate=0):\n",
    "        super(RNN, self).__init__()\n",
    "        self.num_layers = num_layers\n",
    "        self.hidden_size = hidden_size\n",
    "        self.lstm = nn.LSTM(input_size, hidden_size, num_layers, batch_first=True)\n",
    "        self.fc1 = nn.Linear(hidden_size, hidden_size)\n",
    "        self.fc2 = nn.Linear(hidden_size, hidden_size)\n",
    "        self.fc3 = nn.Linear(hidden_size, hidden_size)\n",
    "        self.fc4 = nn.Linear(hidden_size, hidden_size)\n",
    "        self.fc5 = nn.Linear(hidden_size, hidden_size)\n",
    "        self.fc6 = nn.Linear(hidden_size, hidden_size)\n",
    "        self.fc7 = nn.Linear(hidden_size, hidden_size)\n",
    "        self.fc_classification = nn.Linear(hidden_size, num_classes)\n",
    "        self.fc_regression = nn.Linear(hidden_size, 1)\n",
    "        self.dropout = nn.Dropout(dropout_rate)\n",
    "        \n",
    "    def forward(self, x):\n",
    "        h0 = torch.zeros(self.num_layers, x.size(0), self.hidden_size).to(device) \n",
    "        c0 = torch.zeros(self.num_layers, x.size(0), self.hidden_size).to(device) \n",
    "\n",
    "        out, _ = self.lstm(x, (h0,c0))  \n",
    "        out = out[:, -1, :]\n",
    "        \n",
    "        out = self.dropout(F.relu(self.fc1(out)))\n",
    "        out = self.dropout(F.relu(self.fc2(out)))\n",
    "        out = self.dropout(F.relu(self.fc3(out)))\n",
    "        out = self.dropout(F.relu(self.fc4(out)))\n",
    "        out = self.dropout(F.relu(self.fc5(out)))\n",
    "        out = self.dropout(F.relu(self.fc6(out)))\n",
    "        out = self.dropout(F.relu(self.fc7(out)))\n",
    "        classification_output = self.fc_classification(out)\n",
    "        regression_output = self.fc_regression(out)\n",
    "        return classification_output, regression_output"
   ]
  },
  {
   "cell_type": "code",
   "execution_count": 11,
   "id": "5f5f5836-73a8-4af6-9cc7-855e74abc93e",
   "metadata": {},
   "outputs": [],
   "source": [
    "model_path = '2023_tc_50000_games_pred.pth'\n",
    "model = RNN(input_size, hidden_size, num_layers, num_classes).to(device)\n",
    "model.load_state_dict(torch.load(model_path, map_location=device))\n",
    "model.to(device);"
   ]
  },
  {
   "cell_type": "code",
   "execution_count": 12,
   "id": "2acc2a6b",
   "metadata": {},
   "outputs": [
    {
     "name": "stdout",
     "output_type": "stream",
     "text": [
      "Model Prediction: 9\n",
      "True Class: 9\n",
      "Class 0 Probabilities: 0.0000000140\n",
      "Class 1 Probabilities: 0.0000003557\n",
      "Class 2 Probabilities: 0.0000038398\n",
      "Class 3 Probabilities: 0.0000259345\n",
      "Class 4 Probabilities: 0.0000546989\n",
      "Class 5 Probabilities: 0.0004529006\n",
      "Class 6 Probabilities: 0.0060650609\n",
      "Class 7 Probabilities: 0.0488386117\n",
      "Class 8 Probabilities: 0.3134430647\n",
      "Class 9 Probabilities: 0.6311154366\n"
     ]
    }
   ],
   "source": [
    "moves = test_data\n",
    "model.eval()\n",
    "with torch.no_grad():\n",
    "    moves = moves.to(device)\n",
    "    classification_output, _ = model(moves)\n",
    "    probabilities = F.softmax(classification_output, dim=1)\n",
    "    probs = probabilities.cpu().numpy()\n",
    "    pred = torch.max(classification_output.data, 1)\n",
    "\n",
    "print('Model Prediction: {}'.format(pred[1].item()))\n",
    "print('True Class: {}'.format(ratings_list[0]))\n",
    "for i, p in enumerate(probs[0]):\n",
    "    print('Class {} Probabilities: {:.10f}'.format(i, p))\n"
   ]
  }
 ],
 "metadata": {
  "kernelspec": {
   "display_name": "Python 3 (ipykernel)",
   "language": "python",
   "name": "python3"
  },
  "language_info": {
   "codemirror_mode": {
    "name": "ipython",
    "version": 3
   },
   "file_extension": ".py",
   "mimetype": "text/x-python",
   "name": "python",
   "nbconvert_exporter": "python",
   "pygments_lexer": "ipython3",
   "version": "0.0.0"
  }
 },
 "nbformat": 4,
 "nbformat_minor": 5
}
