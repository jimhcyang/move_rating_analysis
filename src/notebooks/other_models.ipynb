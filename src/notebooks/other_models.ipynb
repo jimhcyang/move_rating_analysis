{
 "cells": [
  {
   "cell_type": "code",
   "execution_count": 1,
   "metadata": {},
   "outputs": [],
   "source": [
    "from pydrive.auth import GoogleAuth\n",
    "from pydrive.drive import GoogleDrive\n",
    "import io\n",
    "import pickle\n",
    "import numpy as np\n",
    "import pandas as pd\n",
    "import os\n",
    "from sklearn.naive_bayes import BernoulliNB\n",
    "from sklearn.ensemble import RandomForestClassifier\n",
    "from sklearn.linear_model import LinearRegression\n",
    "from collections import defaultdict\n",
    "import matplotlib.pyplot as plt\n",
    "import torch\n",
    "import torch.nn as nn\n",
    "import torch.nn.functional as F\n",
    "from torch.utils.data import TensorDataset, DataLoader\n",
    "import matplotlib"
   ]
  },
  {
   "cell_type": "code",
   "execution_count": 2,
   "metadata": {},
   "outputs": [],
   "source": [
    "matplotlib.rcParams['font.family'] = 'serif'\n",
    "matplotlib.rcParams['font.serif'] = ['Times New Roman']"
   ]
  },
  {
   "cell_type": "code",
   "execution_count": 3,
   "metadata": {},
   "outputs": [],
   "source": [
    "os.chdir('..')"
   ]
  },
  {
   "cell_type": "code",
   "execution_count": 4,
   "metadata": {},
   "outputs": [],
   "source": [
    "gauth = GoogleAuth()\n",
    "gauth.DEFAULT_SETTINGS['client_config_file'] = 'client_secret_1057507276332-5mk9ac9q22rsmtm1idlqvpraq08ar8p5.apps.googleusercontent.com.json'\n",
    "gauth.LoadCredentialsFile(\"mycreds.txt\")\n",
    "if gauth.credentials is None:\n",
    "    gauth.LocalWebserverAuth()\n",
    "elif gauth.access_token_expired:\n",
    "    gauth.Refresh()\n",
    "else:\n",
    "    gauth.Authorize()\n",
    "\n",
    "gauth.SaveCredentialsFile(\"mycreds.txt\")\n",
    "drive = GoogleDrive(gauth)"
   ]
  },
  {
   "cell_type": "code",
   "execution_count": 5,
   "metadata": {},
   "outputs": [],
   "source": [
    "max_games = 500000 \n",
    "asset_dir = 'asset'\n",
    "file_name = '2023_tc_50000_games.pgn'\n",
    "\n",
    "cached_urls_file = file_name.split('.')[0] + '_urls_list.pkl'\n",
    "cached_ratings_file = file_name.split('.')[0] + '_ratings_list.pkl'\n",
    "cached_games_file = file_name.split('.')[0] + '_game_arrays.pkl'"
   ]
  },
  {
   "cell_type": "code",
   "execution_count": 6,
   "metadata": {},
   "outputs": [
    {
     "name": "stdout",
     "output_type": "stream",
     "text": [
      "loading item from cache...\n",
      "loaded\n",
      "loading item from cache...\n",
      "loaded\n",
      "loading item from cache...\n",
      "loaded\n"
     ]
    }
   ],
   "source": [
    "def load_item_from_file(file_path):\n",
    "    if os.path.exists(file_path):\n",
    "        print('loading item from cache...')\n",
    "        with open(file_path, 'rb') as file:\n",
    "            items = pickle.load(file)\n",
    "        print('loaded')\n",
    "        return items\n",
    "    else:\n",
    "        return None\n",
    "\n",
    "try:\n",
    "    assets_path = os.path.join(os.getcwd(), asset_dir)\n",
    "    cached_urls_path = os.path.join(assets_path, cached_urls_file)\n",
    "    cached_ratings_path = os.path.join(assets_path, cached_ratings_file)\n",
    "    cached_games_path = os.path.join(assets_path, cached_games_file)\n",
    "    urls_list = load_item_from_file(cached_urls_path)\n",
    "    ratings_list = load_item_from_file(cached_ratings_path)\n",
    "    game_arrays = load_item_from_file(cached_games_path)\n",
    "except:\n",
    "    print('Files not on disk, reading from drive...')\n",
    "    urls_list = None\n",
    "    ratings_list = None\n",
    "    game_arrays = None"
   ]
  },
  {
   "cell_type": "code",
   "execution_count": 7,
   "metadata": {},
   "outputs": [
    {
     "name": "stdout",
     "output_type": "stream",
     "text": [
      "URLs list loaded successfully.\n",
      "Ratings list loaded successfully.\n",
      "Game arrays loaded successfully.\n"
     ]
    }
   ],
   "source": [
    "def find_folder_id(folder_name):\n",
    "    \"\"\"Find and return the Google Drive folder ID for a given folder name.\"\"\"\n",
    "    file_list = drive.ListFile({'q': f\"title='{folder_name}' and mimeType='application/vnd.google-apps.folder' and trashed=false\"}).GetList()\n",
    "    for file in file_list:\n",
    "        if file['title'] == folder_name:\n",
    "            return file['id']\n",
    "    return None\n",
    "\n",
    "def read_pkl_file_from_drive(file_title, parent_id):\n",
    "    \"\"\"Read a .pkl file directly from Google Drive into a Python object.\"\"\"\n",
    "    query = f\"'{parent_id}' in parents and trashed=false and title='{file_title}'\"\n",
    "    file_list = drive.ListFile({'q': query}).GetList()\n",
    "    if not file_list:\n",
    "        print(f\"No file found with title: {file_title}\")\n",
    "        return None\n",
    "    file = file_list[0]\n",
    "    file_content = file.GetContentString(encoding='cp437')\n",
    "    buffer = io.BytesIO(file_content.encode('cp437'))\n",
    "    return pickle.load(buffer)\n",
    "\n",
    "asset_folder_id = find_folder_id(asset_dir)\n",
    "if asset_folder_id is None:\n",
    "    print(\"Asset folder not found.\")\n",
    "elif game_arrays is not None:\n",
    "    pass\n",
    "else:\n",
    "    file_titles = {\n",
    "        'urls_list': cached_urls_file,\n",
    "        'ratings_list': cached_ratings_file,\n",
    "        'game_arrays': cached_games_file,\n",
    "    }\n",
    "\n",
    "    urls_list = read_pkl_file_from_drive(file_titles['urls_list'], asset_folder_id)\n",
    "    ratings_list = read_pkl_file_from_drive(file_titles['ratings_list'], asset_folder_id)\n",
    "    game_arrays = read_pkl_file_from_drive(file_titles['game_arrays'], asset_folder_id)\n",
    "\n",
    "if urls_list is not None:\n",
    "    print(\"URLs list loaded successfully.\")\n",
    "if ratings_list is not None:\n",
    "    print(\"Ratings list loaded successfully.\")\n",
    "if game_arrays is not None:\n",
    "    print(\"Game arrays loaded successfully.\")\n",
    "\n",
    "##2m 26.4s"
   ]
  },
  {
   "cell_type": "code",
   "execution_count": 8,
   "metadata": {},
   "outputs": [],
   "source": [
    "features = ['ply_count', 'count_legal_moves', 'force_moves_percent', 'game_state',\n",
    "            'distance', 'is_endgame', 'has_increment', 'in_time_trouble',\n",
    "            'can_dirty_flag', 'is_check', 'is_double_check', 'is_discovered_check',\n",
    "            'is_capture', 'is_threat', 'is_developing', 'is_retreating',\n",
    "            'was_hanging', 'is_hanging', 'was_true_hanging', 'is_true_hanging',\n",
    "            'is_create_tension', 'is_resolve_tension', 'is_maintain_tension',\n",
    "            'is_reacting', 'is_same_piece', 'veni_vidi_vici', 'is_collinear',\n",
    "            'moved_piece_king', 'moved_piece_queen', 'moved_piece_rook',\n",
    "            'moved_piece_bishop', 'moved_piece_knight', 'moved_piece_pawn',\n",
    "            'time_category_instant', 'time_category_fast', 'time_category_normal',\n",
    "            'time_category_slow', 'classification_name_Great',\n",
    "            'classification_name_Good', 'classification_name_Inaccuracy',\n",
    "            'classification_name_Blunder', 'classification_name_Mistake']"
   ]
  },
  {
   "cell_type": "code",
   "execution_count": 9,
   "metadata": {},
   "outputs": [],
   "source": [
    "def train_test_split_5(game_arrays, ratings_list, urls_list, fold_number=0):\n",
    "    if fold_number < 0 or fold_number > 4:\n",
    "        raise ValueError(\"fold_number must be between 0 and 4\")\n",
    "    game_vecs = [np.mean(matrix, axis=0) for matrix in game_arrays]\n",
    "    X_test = game_vecs[fold_number::5]\n",
    "    X_train = [df for i in range(5) if i != fold_number for df in game_vecs[i::5]]\n",
    "    y_test = ratings_list[fold_number::5]\n",
    "    y_train = [ratings for i in range(5) if i != fold_number for ratings in ratings_list[i::5]]\n",
    "    test_urls = urls_list[fold_number::5]\n",
    "    train_urls = [url for i in range(5) if i != fold_number for url in urls_list[i::5]]\n",
    "\n",
    "    return X_train, X_test, y_train, y_test, train_urls, test_urls"
   ]
  },
  {
   "cell_type": "code",
   "execution_count": 10,
   "metadata": {},
   "outputs": [],
   "source": [
    "them_preds_nb = []\n",
    "them_tests_nb = []\n",
    "for fold in range(5):\n",
    "    X_train, X_test, y_train, y_test, train_urls, test_urls = train_test_split_5(game_arrays, ratings_list, urls_list, fold)\n",
    "    clf_nb = BernoulliNB().fit(X_train, y_train)\n",
    "    y_pred_nb = clf_nb.predict(X_test)\n",
    "    them_preds_nb.append(y_pred_nb)\n",
    "    them_tests_nb.append(y_test)"
   ]
  },
  {
   "cell_type": "code",
   "execution_count": 11,
   "metadata": {},
   "outputs": [],
   "source": [
    "them_preds_lr = []\n",
    "them_tests_lr = []\n",
    "ps = []\n",
    "for fold in range(5):\n",
    "    X_train, X_test, y_train, y_test, train_urls, test_urls = train_test_split_5(game_arrays, ratings_list, urls_list, fold)\n",
    "    clf_lr = LinearRegression().fit(X_train, y_train)\n",
    "    y_pred_lr = clf_lr.predict(X_test)\n",
    "    y_preds_lr = np.round(np.array(y_pred_lr))\n",
    "    y_preds_lr[y_preds_lr > 9] = 9\n",
    "    y_preds_lr[y_preds_lr < 0] = 0\n",
    "    ps.append([sum(abs(p - a) <= k for p, a in zip(y_preds_lr, y_test))/len(y_test) for k in range(10)])\n",
    "    them_preds_lr.append(y_preds_lr)\n",
    "    them_tests_lr.append(y_test)"
   ]
  },
  {
   "cell_type": "code",
   "execution_count": 12,
   "metadata": {},
   "outputs": [
    {
     "data": {
      "text/plain": [
       "array([0.20191, 0.5546 , 0.81089, 0.94014, 0.98595, 0.99699, 0.99941,\n",
       "       0.99985, 0.99997, 1.     ])"
      ]
     },
     "execution_count": 12,
     "metadata": {},
     "output_type": "execute_result"
    }
   ],
   "source": [
    "np.mean(np.array(ps), axis=0)"
   ]
  },
  {
   "cell_type": "code",
   "execution_count": 13,
   "metadata": {},
   "outputs": [
    {
     "data": {
      "text/plain": [
       "([('count_legal_moves', 17.111346746638155),\n",
       "  ('force_moves_percent', 9.599118636192822),\n",
       "  ('was_hanging', 6.373069659020521),\n",
       "  ('is_resolve_tension', 5.9524796754974325),\n",
       "  ('is_hanging', 5.320269459426423),\n",
       "  ('is_create_tension', 4.757345598583531),\n",
       "  ('is_retreating', 3.8906325731203677),\n",
       "  ('distance', 2.104520705806117),\n",
       "  ('in_time_trouble', 1.876900194251524),\n",
       "  ('is_developing', 1.328004675127798)],\n",
       " [('ply_count', -79.1129606840231),\n",
       "  ('is_discovered_check', -12.90410593167341),\n",
       "  ('is_true_hanging', -11.027813757003507),\n",
       "  ('is_capture', -6.49225056001899),\n",
       "  ('game_state', -5.428643317891075),\n",
       "  ('is_check', -5.216160247146571),\n",
       "  ('is_same_piece', -5.198137401502621),\n",
       "  ('veni_vidi_vici', -4.229601235628896),\n",
       "  ('was_true_hanging', -3.6542762907332067),\n",
       "  ('can_dirty_flag', -2.7471976925786907)])"
      ]
     },
     "execution_count": 13,
     "metadata": {},
     "output_type": "execute_result"
    }
   ],
   "source": [
    "game_vecs = [np.mean(matrix, axis=0) for matrix in game_arrays]\n",
    "model = LinearRegression().fit(game_vecs, ratings_list)\n",
    "model.coef_, features\n",
    "feature_importances = model.coef_\n",
    "feature_importance_pairs = zip(features, feature_importances)\n",
    "sorted_feature_importances = sorted(feature_importance_pairs, key=lambda x: x[1], reverse=True)\n",
    "top_features = sorted_feature_importances[:10]\n",
    "bottom_features = sorted_feature_importances[::-1][15:25]\n",
    "top_features, bottom_features"
   ]
  },
  {
   "cell_type": "code",
   "execution_count": 14,
   "metadata": {},
   "outputs": [
    {
     "data": {
      "text/plain": [
       "[0.0033, 0.003, 0.0026, 0.0007, 0.0004, 0.0001, 0.0001, 0.0, 0.0, 0.0]"
      ]
     },
     "execution_count": 14,
     "metadata": {},
     "output_type": "execute_result"
    }
   ],
   "source": [
    "[round(i,4) for i in np.std(np.array(ps), axis=0)]"
   ]
  },
  {
   "cell_type": "code",
   "execution_count": 15,
   "metadata": {},
   "outputs": [
    {
     "name": "stdout",
     "output_type": "stream",
     "text": [
      "Successfully loaded RF configurations!\n",
      "CPU times: total: 0 ns\n",
      "Wall time: 25 ms\n"
     ]
    }
   ],
   "source": [
    "%%time\n",
    "random_forest_preds = 'rf10p.pkl'\n",
    "random_forest_tests = 'rf10t.pkl'\n",
    "random_forest_fimps = 'rf10f.pkl'\n",
    "folds = 5\n",
    "them_preds_rf = None\n",
    "them_tests_rf = None\n",
    "them_fimps_rf = None\n",
    "\n",
    "try:\n",
    "    with open(random_forest_preds, 'rb') as file:\n",
    "        them_preds_rf = pickle.load(file)\n",
    "    with open(random_forest_tests, 'rb') as file:\n",
    "        them_tests_rf = pickle.load(file)\n",
    "    with open(random_forest_fimps, 'rb') as file:\n",
    "        them_fimps_rf = pickle.load(file)\n",
    "    print(\"Successfully loaded RF configurations!\")\n",
    "except:\n",
    "    print(\"RF configurations not found, simulating random forests...\")\n",
    "    them_preds_rf = []\n",
    "    them_tests_rf = []\n",
    "    them_fimps_rf = []\n",
    "    for i in range(folds):\n",
    "        X_train, X_test, y_train, y_test, train_urls, test_urls = train_test_split_5(game_arrays, ratings_list, urls_list, i)\n",
    "        clf_rf = RandomForestClassifier(n_estimators=1000, n_jobs=-1)\n",
    "        clf_rf.fit(X_train, y_train)\n",
    "        y_pred_rf = clf_rf.predict(X_test)\n",
    "        feat_imps = clf_rf.feature_importances_\n",
    "        them_preds_rf.append(y_pred_rf)\n",
    "        them_tests_rf.append(y_test)\n",
    "        them_fimps_rf.append(feat_imps)\n",
    "        print(f\"Fold {i+1}/{folds} Complete\")\n",
    "    with open(random_forest_preds, 'wb') as file:\n",
    "        pickle.dump(np.array(them_preds_rf), file)\n",
    "    with open(random_forest_tests, 'wb') as file:\n",
    "        pickle.dump(np.array(them_tests_rf), file)\n",
    "    with open(random_forest_fimps, 'wb') as file:\n",
    "        pickle.dump(np.array(them_fimps_rf), file)\n",
    "\n",
    "#CPU times: total: 2h 2min 19s\n",
    "#Wall time: 17min 14s"
   ]
  },
  {
   "cell_type": "code",
   "execution_count": 16,
   "metadata": {},
   "outputs": [
    {
     "name": "stdout",
     "output_type": "stream",
     "text": [
      "[('is_maintain_tension', 0.00010369232874158641), ('is_reacting', 9.969722747579003e-05), ('time_category_instant', 9.807792318761795e-05), ('is_capture', 9.327331289834574e-05), ('classification_name_Good', 9.106301999377923e-05), ('is_check', 9.104839925033624e-05), ('count_legal_moves', 7.95008190429431e-05), ('is_same_piece', 7.697219258908278e-05), ('game_state', 7.120363086620406e-05), ('in_time_trouble', 6.024728122095089e-05)]\n"
     ]
    },
    {
     "data": {
      "text/plain": [
       "[('classification_name_Blunder', 0.03559832553848682),\n",
       " ('classification_name_Great', 0.03432198437240011),\n",
       " ('time_category_instant', 0.031950503377773457),\n",
       " ('game_state', 0.03162949652610341),\n",
       " ('time_category_normal', 0.03130983895788779),\n",
       " ('count_legal_moves', 0.030878494653012612),\n",
       " ('is_capture', 0.029512137947886746),\n",
       " ('is_same_piece', 0.029468680314415584),\n",
       " ('veni_vidi_vici', 0.029231593370952196),\n",
       " ('time_category_fast', 0.028278349943468523)]"
      ]
     },
     "execution_count": 16,
     "metadata": {},
     "output_type": "execute_result"
    }
   ],
   "source": [
    "feature_importances = np.mean(them_fimps_rf, axis=0)\n",
    "feature_important_std = np.std(them_fimps_rf, axis=0)\n",
    "\n",
    "feature_importance_pairs = zip(features, feature_importances)\n",
    "sorted_feature_importances = sorted(feature_importance_pairs, key=lambda x: x[1], reverse=True)\n",
    "\n",
    "feature_volatility_pairs = zip(features, feature_important_std)\n",
    "sorted_feature_volatility = sorted(feature_volatility_pairs, key=lambda x: x[1], reverse=True)\n",
    "\n",
    "top_features = sorted_feature_importances[:10]\n",
    "top_volatile_features = sorted_feature_volatility[:10]\n",
    "print(top_volatile_features)\n",
    "top_features"
   ]
  },
  {
   "cell_type": "code",
   "execution_count": 17,
   "metadata": {},
   "outputs": [],
   "source": [
    "def pad_game(game, max_length=256, vector_size=42):\n",
    "    padding_length = max_length - len(game)\n",
    "    if padding_length < 0:\n",
    "        return game[:max_length]\n",
    "    else:\n",
    "        padding = np.full((padding_length, vector_size), -1)\n",
    "        return np.vstack((game, padding))"
   ]
  },
  {
   "cell_type": "code",
   "execution_count": 18,
   "metadata": {},
   "outputs": [],
   "source": [
    "class RNN(nn.Module):\n",
    "    def __init__(self, input_size, hidden_size, num_layers, num_classes, dropout_rate=0):\n",
    "        super(RNN, self).__init__()\n",
    "        self.num_layers = num_layers\n",
    "        self.hidden_size = hidden_size\n",
    "        self.lstm = nn.LSTM(input_size, hidden_size, num_layers, batch_first=True)\n",
    "        self.fc1 = nn.Linear(hidden_size, hidden_size)\n",
    "        self.fc2 = nn.Linear(hidden_size, hidden_size)\n",
    "        self.fc3 = nn.Linear(hidden_size, hidden_size)\n",
    "        self.fc4 = nn.Linear(hidden_size, hidden_size)\n",
    "        self.fc5 = nn.Linear(hidden_size, hidden_size)\n",
    "        self.fc6 = nn.Linear(hidden_size, hidden_size)\n",
    "        self.fc7 = nn.Linear(hidden_size, hidden_size)\n",
    "        self.fc_classification = nn.Linear(hidden_size, num_classes)\n",
    "        self.fc_regression = nn.Linear(hidden_size, 1)\n",
    "        self.dropout = nn.Dropout(dropout_rate)\n",
    "        \n",
    "    def forward(self, x):\n",
    "        h0 = torch.zeros(self.num_layers, x.size(0), self.hidden_size).to(device) \n",
    "        c0 = torch.zeros(self.num_layers, x.size(0), self.hidden_size).to(device) \n",
    "\n",
    "        out, _ = self.lstm(x, (h0,c0))  \n",
    "        out = out[:, -1, :]\n",
    "        \n",
    "        out = self.dropout(F.relu(self.fc1(out)))\n",
    "        out = self.dropout(F.relu(self.fc2(out)))\n",
    "        out = self.dropout(F.relu(self.fc3(out)))\n",
    "        out = self.dropout(F.relu(self.fc4(out)))\n",
    "        out = self.dropout(F.relu(self.fc5(out)))\n",
    "        out = self.dropout(F.relu(self.fc6(out)))\n",
    "        out = self.dropout(F.relu(self.fc7(out)))\n",
    "        classification_output = self.fc_classification(out)\n",
    "        regression_output = self.fc_regression(out)\n",
    "        return classification_output, regression_output"
   ]
  },
  {
   "cell_type": "code",
   "execution_count": 19,
   "metadata": {},
   "outputs": [],
   "source": [
    "def get_loaders(padded_games, ratings_list, urls_list, batch_size, fold_number=0):\n",
    "    if fold_number < 0 or fold_number > 4:\n",
    "        raise ValueError(\"fold_number must be between 0 and 4\")\n",
    "    test_list = padded_games[fold_number::5]\n",
    "    train_list = [df for i in range(5) if i != fold_number for df in padded_games[i::5]]\n",
    "    test_ratings = ratings_list[fold_number::5]\n",
    "    train_ratings = [ratings for i in range(5) if i != fold_number for ratings in ratings_list[i::5]]\n",
    "    test_urls = urls_list[fold_number::5]\n",
    "    train_urls = [url for i in range(5) if i != fold_number for url in urls_list[i::5]]\n",
    "\n",
    "    train_data = [torch.FloatTensor(doc) for doc in train_list]\n",
    "    test_data = [torch.FloatTensor(doc) for doc in test_list]\n",
    "    train_labels = torch.LongTensor(train_ratings)\n",
    "    test_labels = torch.LongTensor(test_ratings)\n",
    "\n",
    "    train_dataset = TensorDataset(torch.stack(train_data), train_labels)\n",
    "    test_dataset = TensorDataset(torch.stack(test_data), test_labels)\n",
    "    train_loader = DataLoader(dataset=train_dataset, batch_size=batch_size, shuffle=True)\n",
    "    test_loader = DataLoader(dataset=test_dataset, batch_size=batch_size, shuffle=False)\n",
    "\n",
    "    return train_loader, test_loader, train_urls, test_urls"
   ]
  },
  {
   "cell_type": "code",
   "execution_count": 20,
   "metadata": {},
   "outputs": [],
   "source": [
    "def combined_loss(classification_output, regression_output, target, alpha=0.5):\n",
    "    classification_loss = nn.CrossEntropyLoss()(classification_output, target)\n",
    "    regression_target = target.float()\n",
    "    regression_loss = nn.MSELoss()(regression_output.squeeze(), regression_target)\n",
    "    return alpha * classification_loss + (1 - alpha) * regression_loss\n",
    "\n",
    "def train_model(model, train_loader, test_loader, optimizer, num_epochs, device, alpha=0.5):\n",
    "    torets = []\n",
    "    for epoch in range(num_epochs):\n",
    "        model.train()\n",
    "        for i, (moves, labels) in enumerate(train_loader):  \n",
    "            moves = moves.to(device)\n",
    "            labels = labels.to(device)\n",
    "\n",
    "            classification_output, regression_output = model(moves)\n",
    "            loss = combined_loss(classification_output, regression_output, labels, alpha)\n",
    "\n",
    "            optimizer.zero_grad()\n",
    "            loss.backward()\n",
    "            optimizer.step()\n",
    "        \n",
    "        #print(f'Epoch [{epoch + 1}/{num_epochs}], Loss: {loss.item():.4f}')\n",
    "        predicted_probs, predicted_labels, actual_labels = test_model(model, test_loader, device)\n",
    "        pred_closeness = [sum(abs(p - a) <= k for p, a in zip(predicted_labels, actual_labels)) for k in range(10)]\n",
    "        toret = [x/20000 for x in pred_closeness]\n",
    "        torets.append(toret)\n",
    "    return torets\n",
    "\n",
    "def test_model(model, test_loader, device):\n",
    "    model.eval()\n",
    "    n_correct = 0\n",
    "    n_samples = 0\n",
    "    predicted_probs = []\n",
    "    predicted_labels = []\n",
    "    actual_labels = []\n",
    "    with torch.no_grad():\n",
    "        for moves, labels in test_loader:\n",
    "            moves = moves.to(device)\n",
    "            labels = labels.to(device)\n",
    "            classification_output, _ = model(moves)\n",
    "            probabilities = F.softmax(classification_output, dim=1)\n",
    "\n",
    "            _, predicted = torch.max(classification_output.data, 1)\n",
    "            predicted_probs.extend(probabilities.cpu().numpy())\n",
    "            predicted_labels.extend(predicted.cpu().numpy())\n",
    "            actual_labels.extend(labels.cpu().numpy())\n",
    "            n_samples += labels.size(0)\n",
    "            n_correct += (predicted == labels).sum().item()\n",
    "\n",
    "    acc = 100.0 * n_correct / n_samples\n",
    "    #print(f'Accuracy of the network on the test moves: {acc} %')\n",
    "    return predicted_probs, predicted_labels, actual_labels"
   ]
  },
  {
   "cell_type": "code",
   "execution_count": 21,
   "metadata": {},
   "outputs": [
    {
     "name": "stdout",
     "output_type": "stream",
     "text": [
      "The model has 291,011 trainable parameters\n"
     ]
    }
   ],
   "source": [
    "input_size = 42\n",
    "num_classes = 10\n",
    "num_epochs = 40\n",
    "sequence_length = 128\n",
    "batch_size = 100\n",
    "hidden_size = 100\n",
    "num_layers = 3\n",
    "learning_rate = 0.0008\n",
    "alpha = 0.9\n",
    "dropout_rate = 0\n",
    "decay = 0.0001\n",
    "\n",
    "torch.manual_seed(64)\n",
    "\n",
    "device = torch.device('cuda' if torch.cuda.is_available() else 'cpu')\n",
    "model_path = file_name.split('.')[0] + '_pred.pth'\n",
    "model = RNN(input_size, hidden_size, num_layers, num_classes, dropout_rate).to(device)\n",
    "num_params = sum(p.numel() for p in model.parameters() if p.requires_grad)\n",
    "print(f'The model has {num_params:,} trainable parameters')\n",
    "\n",
    "def train_lstm():\n",
    "    padded_games = [pad_game(g, sequence_length) for g in game_arrays]\n",
    "    lstm_preds = []\n",
    "    lstm_truths = []\n",
    "    for fold in range(5):\n",
    "        print(f\"Training Epoch {fold+1}/5 ...\")\n",
    "        train_loader, test_loader, train_urls, test_urls = get_loaders(padded_games, ratings_list, urls_list, batch_size, fold)\n",
    "        model = RNN(input_size, hidden_size, num_layers, num_classes, dropout_rate).to(device)\n",
    "        optimizer = torch.optim.Adam(model.parameters(), lr=learning_rate, weight_decay=decay)\n",
    "        num_params = sum(p.numel() for p in model.parameters() if p.requires_grad)\n",
    "        lists = train_model(model, train_loader, test_loader, optimizer, num_epochs, device, alpha)\n",
    "        predicted_probs, predicted_labels, actual_labels = test_model(model, test_loader, device)\n",
    "\n",
    "        lstm_preds.append(predicted_labels)\n",
    "        lstm_truths.append(actual_labels)\n",
    "    return lstm_preds, lstm_truths"
   ]
  },
  {
   "cell_type": "code",
   "execution_count": 22,
   "metadata": {},
   "outputs": [
    {
     "name": "stdout",
     "output_type": "stream",
     "text": [
      "Successfully loaded LSTM configurations!\n"
     ]
    }
   ],
   "source": [
    "lstm_preds_path = 'lstm_fold_preds.pkl'\n",
    "lstm_truths_path = 'lstm_fold_truths.pkl'\n",
    "\n",
    "try:\n",
    "    with open(lstm_preds_path, 'rb') as file:\n",
    "        lstm_preds = pickle.load(file)\n",
    "    with open(lstm_truths_path, 'rb') as file:\n",
    "        lstm_truths = pickle.load(file)\n",
    "    print(\"Successfully loaded LSTM configurations!\")\n",
    "\n",
    "except:\n",
    "    lstm_preds, lstm_truths = train_lstm()\n",
    "    with open(lstm_preds_path, 'wb') as file:\n",
    "        pickle.dump(np.array(lstm_preds), file)\n",
    "    with open(lstm_truths_path, 'wb') as file:\n",
    "        pickle.dump(np.array(lstm_truths), file)"
   ]
  },
  {
   "cell_type": "code",
   "execution_count": 23,
   "metadata": {},
   "outputs": [
    {
     "data": {
      "image/png": "[encoded data removed]",
      "text/plain": [
       "<Figure size 600x600 with 4 Axes>"
      ]
     },
     "metadata": {},
     "output_type": "display_data"
    }
   ],
   "source": [
    "def pred_and_truth_to_dict(diffs, accums):\n",
    "    errordict = defaultdict(float)\n",
    "    for diff, accum in zip(diffs, accums):\n",
    "        errordict[diff] += accum\n",
    "    categories = range(-9, 10)\n",
    "    errordict = {n: errordict[n] for n in categories}\n",
    "    frequencies = list(errordict.values())\n",
    "    return frequencies\n",
    "\n",
    "def plot_errors(ax, frequencies, title, std_dev=None):\n",
    "    categories = list(range(-9, 10, 1))\n",
    "    ax.bar(categories, frequencies, width=1, color='#e5d3b3', edgecolor='black', linewidth=0.5) \n",
    "    ax.set_xlabel('Prediction Error')\n",
    "    ax.set_ylabel('Frequency')\n",
    "    ax.set_title(title)\n",
    "    ax.spines['top'].set_visible(False)\n",
    "    ax.spines['right'].set_visible(False)\n",
    "    ax.set_xticks(range(-8, 9, 2))\n",
    "    ax.set_xticklabels(range(-8, 9, 2))\n",
    "    ax.set_ylim(bottom=0, top=0.35)\n",
    "\n",
    "    if std_dev is not None:\n",
    "        n = np.array(frequencies)\n",
    "        n[n == 0] = np.nan\n",
    "        ci_95 = 1.96 * np.array(std_dev) #math checks out\n",
    "        ax.errorbar(categories, frequencies, yerr=ci_95, fmt='none', ecolor='#5b402f', capsize=2, elinewidth=1)\n",
    "\n",
    "def pred_and_test_mat_to_freqs(them_preds, them_tests):\n",
    "    length = 20000\n",
    "    increments = [1/length]*length\n",
    "    n_by_error_l = []\n",
    "    for i in range(len(them_preds)):\n",
    "        y_pred = them_preds[i]\n",
    "        y_test = them_tests[i]\n",
    "        increments = [1/2e4]*length\n",
    "        edict = [p-a for p, a in zip(y_pred, y_test)]\n",
    "        n_by_error = pred_and_truth_to_dict(edict, increments)\n",
    "        n_by_error_l.append(n_by_error)\n",
    "    frequencies = np.mean(np.array(n_by_error_l), axis=0)\n",
    "    standard_errors = np.std(np.array(n_by_error_l), axis=0)\n",
    "    return frequencies, standard_errors\n",
    "\n",
    "fig, axs = plt.subplots(2, 2, figsize=(6, 6), sharex='col', sharey='all')\n",
    "\n",
    "labels = pd.Series(ratings_list).value_counts().index.tolist()\n",
    "counts = pd.Series(ratings_list).value_counts().values.tolist()\n",
    "diffs = [i-label for i in range(10) for label in labels]\n",
    "accums = [count/1e6 for _ in range(10) for count in counts]\n",
    "frequencies_re = pred_and_truth_to_dict(diffs, accums)\n",
    "plot_errors(axs[0, 0], frequencies_re, 'Random Errors')\n",
    "\n",
    "frequencies_nb, standard_errors_nb = pred_and_test_mat_to_freqs(them_preds_nb, them_tests_nb)\n",
    "plot_errors(axs[0, 1], frequencies_nb, 'Naive Bayes Errors', standard_errors_nb)\n",
    "\n",
    "frequencies_rf, standard_errors_rf = pred_and_test_mat_to_freqs(them_preds_rf, them_tests_rf)\n",
    "plot_errors(axs[1, 0], frequencies_rf, 'Random Forest Errors', standard_errors_rf)\n",
    "\n",
    "frequencies_lstm, standard_errors_lstm = pred_and_test_mat_to_freqs(lstm_preds, lstm_truths)\n",
    "plot_errors(axs[1, 1], frequencies_lstm, 'LSTM Errors', standard_errors_lstm)\n",
    "\n",
    "plt.tight_layout()\n",
    "plt.show()"
   ]
  },
  {
   "cell_type": "code",
   "execution_count": 24,
   "metadata": {},
   "outputs": [
    {
     "data": {
      "text/plain": [
       "(0.0012675172582650093, 0.001708039812182186, 0.00521587959983683)"
      ]
     },
     "execution_count": 24,
     "metadata": {},
     "output_type": "execute_result"
    }
   ],
   "source": [
    "standard_errors_nb[9], standard_errors_rf[9], standard_errors_lstm[9]"
   ]
  },
  {
   "cell_type": "code",
   "execution_count": 25,
   "metadata": {},
   "outputs": [
    {
     "name": "stdout",
     "output_type": "stream",
     "text": [
      "[10.0, 28.38, 44.63, 58.8, 70.88, 80.88, 88.81, 94.64, 98.38, 100.0]\n",
      "[15.34, 40.42, 58.34, 71.8, 81.56, 88.59, 93.16, 96.54, 99.0, 100.0]\n",
      "[24.7, 59.75, 78.79, 89.41, 95.06, 97.86, 99.2, 99.73, 99.97, 100.0]\n",
      "[32.41, 74.4, 91.77, 97.69, 99.44, 99.86, 99.97, 100.0, 100.0, 100.0]\n"
     ]
    }
   ],
   "source": [
    "for f in [frequencies_re, frequencies_nb, frequencies_rf, frequencies_lstm]:\n",
    "    accuracies = [0]*10\n",
    "    for p, i in zip(f, range(-9, 10, 1)):\n",
    "        accuracies[abs(i)] += p\n",
    "    accs = [round(20000*sum(accuracies[:i+1])) for i in range(len(accuracies))]\n",
    "    print([round(i/200, 2) for i in accs])"
   ]
  }
 ],
 "metadata": {
  "kernelspec": {
   "display_name": "Python 3",
   "language": "python",
   "name": "python3"
  },
  "language_info": {
   "codemirror_mode": {
    "name": "ipython",
    "version": 3
   },
   "file_extension": ".py",
   "mimetype": "text/x-python",
   "name": "python",
   "nbconvert_exporter": "python",
   "pygments_lexer": "ipython3",
   "version": "3.11.1"
  }
 },
 "nbformat": 4,
 "nbformat_minor": 2
}
